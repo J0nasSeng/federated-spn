{
 "cells": [
  {
   "cell_type": "code",
   "execution_count": 57,
   "metadata": {},
   "outputs": [],
   "source": [
    "import numpy as np\n",
    "import matplotlib.pyplot as plt\n",
    "import pandas as pd\n",
    "from spn.structure.Base import Sum, Product, Context, get_nodes_by_type\n",
    "from spn.structure.leaves.parametric.Parametric import Gaussian, Categorical\n",
    "from spn.algorithms.LearningWrappers import learn_structure\n",
    "from sklearn.datasets import make_classification\n",
    "from spn.algorithms.MPE import mpe\n",
    "from spn.algorithms.EM import EM_optimization\n",
    "from spn.structure.leaves.piecewise.PiecewiseLinear import create_histogram_leaf\n",
    "from spn.algorithms.splitting.RDC import get_split_cols_RDC_py\n",
    "from spn.algorithms.splitting.Clustering import get_split_rows_KMeans\n",
    "from sklearn.model_selection import train_test_split\n",
    "from utils import random_region_graph, region_graph_to_spn, reassign_node_ids\n",
    "from datasets.utils import get_vertical_train_data"
   ]
  },
  {
   "cell_type": "code",
   "execution_count": 56,
   "metadata": {},
   "outputs": [],
   "source": [
    "def map_scopes(spn, inds):\n",
    "    nodes = get_nodes_by_type(spn)\n",
    "    scope_mapping = {i: s for i, s in enumerate(inds)}\n",
    "    for n in nodes:\n",
    "        sc = list(n.scope)\n",
    "        new_sc = [scope_mapping[i] for i in sc]\n",
    "        n.scope = new_sc\n",
    "    return spn\n",
    "\n",
    "def reassign_ids(spn):\n",
    "    nodes = get_nodes_by_type(spn)\n",
    "    for i, n in enumerate(nodes):\n",
    "        n.id = i\n",
    "    return spn\n",
    "\n",
    "def make_dataset(num_samples, num_features, n_informative, n_redundant, n_classes, n_clusters, n_repeated):\n",
    "    x, y = make_classification(num_samples, num_features, n_informative=n_informative, \n",
    "                               n_redundant=n_redundant, n_classes=n_classes, n_clusters_per_class=n_clusters,\n",
    "                               n_repeated=n_repeated)\n",
    "    train_x, test_x, train_y, test_y = train_test_split(x, y, test_size=0.3)\n",
    "    train_data = np.hstack([train_x, train_y.reshape(-1, 1)])\n",
    "    test_data = np.hstack([test_x, test_y.reshape(-1, 1)])\n",
    "    return train_data, test_data\n",
    "\n",
    "split_cols = get_split_cols_RDC_py(0.3, False)\n",
    "split_rows = get_split_rows_KMeans(2, standardize=False)"
   ]
  },
  {
   "cell_type": "code",
   "execution_count": 2,
   "metadata": {},
   "outputs": [
    {
     "name": "stderr",
     "output_type": "stream",
     "text": [
      "/home/jonas/dev/federated-learning/federated-spn/src/network-aligned-spn/datasets/datasets.py:107: SettingWithCopyWarning: \n",
      "A value is trying to be set on a copy of a slice from a DataFrame\n",
      "\n",
      "See the caveats in the documentation: https://pandas.pydata.org/pandas-docs/stable/user_guide/indexing.html#returning-a-view-versus-a-copy\n",
      "  self.train_data[col][self.train_data[col] >= percentiles] = percentiles\n",
      "/home/jonas/dev/federated-learning/federated-spn/src/network-aligned-spn/datasets/datasets.py:108: SettingWithCopyWarning: \n",
      "A value is trying to be set on a copy of a slice from a DataFrame\n",
      "\n",
      "See the caveats in the documentation: https://pandas.pydata.org/pandas-docs/stable/user_guide/indexing.html#returning-a-view-versus-a-copy\n",
      "  self.test_data[col][self.test_data[col] >= percentiles] = percentiles\n",
      "/home/jonas/dev/federated-learning/federated-spn/src/network-aligned-spn/datasets/datasets.py:107: SettingWithCopyWarning: \n",
      "A value is trying to be set on a copy of a slice from a DataFrame\n",
      "\n",
      "See the caveats in the documentation: https://pandas.pydata.org/pandas-docs/stable/user_guide/indexing.html#returning-a-view-versus-a-copy\n",
      "  self.train_data[col][self.train_data[col] >= percentiles] = percentiles\n",
      "/home/jonas/dev/federated-learning/federated-spn/src/network-aligned-spn/datasets/datasets.py:108: SettingWithCopyWarning: \n",
      "A value is trying to be set on a copy of a slice from a DataFrame\n",
      "\n",
      "See the caveats in the documentation: https://pandas.pydata.org/pandas-docs/stable/user_guide/indexing.html#returning-a-view-versus-a-copy\n",
      "  self.test_data[col][self.test_data[col] >= percentiles] = percentiles\n",
      "/home/jonas/dev/federated-learning/federated-spn/src/network-aligned-spn/datasets/datasets.py:107: SettingWithCopyWarning: \n",
      "A value is trying to be set on a copy of a slice from a DataFrame\n",
      "\n",
      "See the caveats in the documentation: https://pandas.pydata.org/pandas-docs/stable/user_guide/indexing.html#returning-a-view-versus-a-copy\n",
      "  self.train_data[col][self.train_data[col] >= percentiles] = percentiles\n",
      "/home/jonas/dev/federated-learning/federated-spn/src/network-aligned-spn/datasets/datasets.py:108: SettingWithCopyWarning: \n",
      "A value is trying to be set on a copy of a slice from a DataFrame\n",
      "\n",
      "See the caveats in the documentation: https://pandas.pydata.org/pandas-docs/stable/user_guide/indexing.html#returning-a-view-versus-a-copy\n",
      "  self.test_data[col][self.test_data[col] >= percentiles] = percentiles\n"
     ]
    }
   ],
   "source": [
    "data, subspaces = get_vertical_train_data('income', 4)"
   ]
  },
  {
   "cell_type": "code",
   "execution_count": null,
   "metadata": {},
   "outputs": [],
   "source": [
    "# take a RAT SPN for each client\n",
    "# build a new RAT SPN structure over it\n",
    "# train -> this is full\n",
    "\n",
    "# take RAT SPN for each client\n",
    "# train each client\n",
    "# train RAT on top -> this is 2-step"
   ]
  },
  {
   "cell_type": "code",
   "execution_count": 53,
   "metadata": {},
   "outputs": [],
   "source": [
    "num_features = 20\n",
    "datasets = {}\n",
    "for num_corrs in np.arange(0, 18, 2):\n",
    "    inf = num_features - num_corrs\n",
    "    train, test = make_dataset(2000, num_features, inf, num_corrs, 2, 1, 0)\n",
    "    datasets[num_corrs] = (train, test)"
   ]
  },
  {
   "cell_type": "code",
   "execution_count": 44,
   "metadata": {},
   "outputs": [],
   "source": [
    "num_features = 20\n",
    "\n",
    "def train_fedspn_e2e(n_clients, spn_type='rat'):\n",
    "    accs = []\n",
    "    stds = []\n",
    "    for r in np.arange(0, 18, 2):\n",
    "        train_data, test_data = datasets[r]\n",
    "        train_data = np.copy(train_data)\n",
    "        test_data = np.copy(test_data)\n",
    "        y = np.copy(test_data[:, -1])\n",
    "        test_data[:, -1] = np.nan\n",
    "        # split data on n clients vertically\n",
    "        indices = np.arange(train_data.shape[1])\n",
    "        s = np.array_split(indices, n_clients)\n",
    "        class_idx = train_data.shape[1] - 1\n",
    "        exp_accs = []\n",
    "        for _ in range(10):\n",
    "            # train one spn on each client\n",
    "            spns = []\n",
    "            for cl_idx in s:\n",
    "                client_data = train_data[:, cl_idx]\n",
    "                client_features = client_data.shape[1] - 1\n",
    "                if class_idx in cl_idx:\n",
    "                    context = Context(parametric_types=[Gaussian]*client_features + [Categorical]).add_domains(client_data)\n",
    "                else:\n",
    "                    context = Context(parametric_types=[Gaussian]*(client_features + 1)).add_domains(client_data)\n",
    "                spn = learn_structure(client_data, context, split_rows, split_cols, create_histogram_leaf)\n",
    "                sums = get_nodes_by_type(spn, Sum)\n",
    "                for s in sums:\n",
    "                    if s.weights is None or s.weights == []:\n",
    "                        s.weights = [1/len(s.children)]*len(s.children)\n",
    "                spns.append(spn)\n",
    "            \n",
    "            spn = Sum(weights=[1/(n_clients + 1)]*(n_clients + 1))\n",
    "            scope = list(set().union(*[set(n.scope) for n in spns]))\n",
    "            spn.scope = scope\n",
    "            prods = []\n",
    "            for _ in range(n_clients+1):\n",
    "                p = Product(children=spns)\n",
    "                p.scope = scope\n",
    "                prods.append(p)\n",
    "            spn.children = prods\n",
    "            spn = reassign_ids(spn)\n",
    "            EM_optimization(spn, train_data)\n",
    "\n",
    "            # evaluate server model\n",
    "            pred = mpe(spn, test_data)\n",
    "            pred = pred[:, -1]\n",
    "            acc = sum(y == pred) / len(y)\n",
    "            exp_accs.append(acc)\n",
    "        accs.append(np.mean(exp_accs))\n",
    "        stds.append(np.std(exp_accs))\n",
    "    return accs, stds"
   ]
  },
  {
   "cell_type": "code",
   "execution_count": 45,
   "metadata": {},
   "outputs": [],
   "source": [
    "num_features = 20\n",
    "\n",
    "def train_fedspn_two_step(n_clients, spn_type='rat'):\n",
    "    accs = []\n",
    "    stds = []\n",
    "    for r in np.arange(0, 18, 2):\n",
    "        train_data, test_data = datasets[r]\n",
    "        train_data = np.copy(train_data)\n",
    "        test_data = np.copy(test_data)\n",
    "        y = np.copy(test_data[:, -1])\n",
    "        test_data[:, -1] = np.nan\n",
    "        # split data on n clients vertically\n",
    "        indices = np.arange(train_data.shape[1])\n",
    "        s = np.array_split(indices, n_clients)\n",
    "        class_idx = train_data.shape[1] - 1\n",
    "        exp_accs = []\n",
    "        for _ in range(10):\n",
    "            # train one spn on each client\n",
    "            spns = []\n",
    "            for cl_idx in s:\n",
    "                client_data = train_data[:, cl_idx]\n",
    "                client_features = client_data.shape[1] - 1\n",
    "                if class_idx in cl_idx:\n",
    "                    context = Context(parametric_types=[Gaussian]*client_features + [Categorical]).add_domains(client_data)\n",
    "                else:\n",
    "                    context = Context(parametric_types=[Gaussian]*(client_features + 1)).add_domains(client_data)\n",
    "                spn = learn_structure(client_data, context, split_rows, split_cols, create_histogram_leaf)\n",
    "                sums = get_nodes_by_type(spn, Sum)\n",
    "                for s in sums:\n",
    "                    if s.weights is None or s.weights == []:\n",
    "                        s.weights = [1/len(s.children)]*len(s.children)\n",
    "                EM_optimization(spn, client_data)\n",
    "                spns.append(spn)\n",
    "            \n",
    "            spn = Sum(weights=[1/(n_clients + 1)]*(n_clients + 1))\n",
    "            scope = list(set().union(*[set(n.scope) for n in spns]))\n",
    "            spn.scope = scope\n",
    "            prods = []\n",
    "            for _ in range(n_clients+1):\n",
    "                p = Product(children=spns)\n",
    "                p.scope = scope\n",
    "                prods.append(p)\n",
    "            spn.children = prods\n",
    "            spn = reassign_ids(spn)\n",
    "\n",
    "            # optimize server SPN\n",
    "            # NOTE: It's legal to put client data in here since we can propagate likelihoods\n",
    "            #   over the network without sending private information\n",
    "            EM_optimization(spn, train_data)\n",
    "\n",
    "            # evaluate server model\n",
    "            pred = mpe(spn, test_data)\n",
    "            pred = pred[:, -1]\n",
    "            acc = sum(y == pred) / len(y)\n",
    "            exp_accs.append(acc)\n",
    "        accs.append(np.mean(exp_accs))\n",
    "        stds.append(np.std(exp_accs))\n",
    "    return accs, stds"
   ]
  },
  {
   "cell_type": "code",
   "execution_count": 46,
   "metadata": {},
   "outputs": [],
   "source": [
    "num_clients = [2, 3, 4, 5]\n",
    "accs_e2e = []\n",
    "stds_e2e = []\n",
    "for c in num_clients:\n",
    "    accs_e2e_c, stds_e2e_c = train_fedspn_e2e(c)\n",
    "    accs_e2e.append(accs_e2e_c)\n",
    "    stds_e2e.append(stds_e2e_c)"
   ]
  },
  {
   "cell_type": "code",
   "execution_count": 47,
   "metadata": {},
   "outputs": [],
   "source": [
    "accs_2step = []\n",
    "stds_2step = []\n",
    "for c in num_clients:\n",
    "    accs_2step_c, stds_2step_c = train_fedspn_two_step(c)\n",
    "    accs_2step.append(accs_2step_c)\n",
    "    stds_2step.append(stds_2step_c)"
   ]
  },
  {
   "cell_type": "code",
   "execution_count": 48,
   "metadata": {},
   "outputs": [
    {
     "data": {
      "text/plain": [
       "[[0.5233333333333333,\n",
       "  0.5266666666666666,\n",
       "  0.5233333333333333,\n",
       "  0.4966666666666667,\n",
       "  0.48666666666666664,\n",
       "  0.51,\n",
       "  0.5166666666666667,\n",
       "  0.5083333333333332,\n",
       "  0.5216666666666666],\n",
       " [0.5233333333333333,\n",
       "  0.5266666666666666,\n",
       "  0.5233333333333333,\n",
       "  0.4966666666666667,\n",
       "  0.48666666666666664,\n",
       "  0.51,\n",
       "  0.5166666666666667,\n",
       "  0.5083333333333332,\n",
       "  0.5216666666666666],\n",
       " [0.5233333333333333,\n",
       "  0.5266666666666666,\n",
       "  0.5233333333333333,\n",
       "  0.4966666666666667,\n",
       "  0.48666666666666664,\n",
       "  0.51,\n",
       "  0.5166666666666667,\n",
       "  0.5083333333333332,\n",
       "  0.5216666666666666],\n",
       " [0.5233333333333333,\n",
       "  0.5266666666666666,\n",
       "  0.5233333333333333,\n",
       "  0.4966666666666667,\n",
       "  0.48666666666666664,\n",
       "  0.51,\n",
       "  0.5166666666666667,\n",
       "  0.5083333333333332,\n",
       "  0.5216666666666666]]"
      ]
     },
     "execution_count": 48,
     "metadata": {},
     "output_type": "execute_result"
    }
   ],
   "source": [
    "accs_e2e"
   ]
  },
  {
   "cell_type": "code",
   "execution_count": 49,
   "metadata": {},
   "outputs": [
    {
     "data": {
      "text/plain": [
       "[[0.5233333333333333,\n",
       "  0.5266666666666666,\n",
       "  0.5233333333333333,\n",
       "  0.4966666666666667,\n",
       "  0.48666666666666664,\n",
       "  0.51,\n",
       "  0.5166666666666667,\n",
       "  0.5083333333333332,\n",
       "  0.5216666666666666],\n",
       " [0.5233333333333333,\n",
       "  0.5266666666666666,\n",
       "  0.5233333333333333,\n",
       "  0.4966666666666667,\n",
       "  0.48666666666666664,\n",
       "  0.51,\n",
       "  0.5166666666666667,\n",
       "  0.5083333333333332,\n",
       "  0.5216666666666666],\n",
       " [0.5233333333333333,\n",
       "  0.5266666666666666,\n",
       "  0.5233333333333333,\n",
       "  0.4966666666666667,\n",
       "  0.48666666666666664,\n",
       "  0.51,\n",
       "  0.5166666666666667,\n",
       "  0.5083333333333332,\n",
       "  0.5216666666666666],\n",
       " [0.5233333333333333,\n",
       "  0.5266666666666666,\n",
       "  0.5233333333333333,\n",
       "  0.4966666666666667,\n",
       "  0.48666666666666664,\n",
       "  0.51,\n",
       "  0.5166666666666667,\n",
       "  0.5083333333333332,\n",
       "  0.5216666666666666]]"
      ]
     },
     "execution_count": 49,
     "metadata": {},
     "output_type": "execute_result"
    }
   ],
   "source": [
    "accs_2step"
   ]
  },
  {
   "cell_type": "code",
   "execution_count": 50,
   "metadata": {},
   "outputs": [
    {
     "data": {
      "image/png": "[encoded data removed]",
      "text/plain": [
       "<Figure size 640x480 with 1 Axes>"
      ]
     },
     "metadata": {},
     "output_type": "display_data"
    }
   ],
   "source": [
    "fig = plt.figure()\n",
    "for idx, num_c in enumerate(num_clients):\n",
    "    accs_e2e_c = np.array(accs_e2e[idx])\n",
    "    accs_two_step_c = np.array(accs_2step[idx])\n",
    "    diff = abs(accs_two_step_c - accs_e2e_c)\n",
    "    x = np.arange(len(accs_e2e_c))\n",
    "    plt.plot(x, diff, label=f'Absolute Difference Accuracy {num_c} clients', marker='x')\n",
    "plt.xticks(np.arange(len(accs_e2e[0])), np.arange(0, len(accs_e2e[0])*2, 2))\n",
    "plt.xlabel('Number of correlating features')\n",
    "plt.ylabel('Absolute Difference in Accuracy')\n",
    "plt.ylim([0., 0.1])\n",
    "plt.title('Difference in Performance of E2E-training vs. 2-step-training')\n",
    "plt.legend()\n",
    "plt.show()"
   ]
  },
  {
   "cell_type": "code",
   "execution_count": null,
   "metadata": {},
   "outputs": [],
   "source": []
  }
 ],
 "metadata": {
  "kernelspec": {
   "display_name": "federated-spn",
   "language": "python",
   "name": "python3"
  },
  "language_info": {
   "codemirror_mode": {
    "name": "ipython",
    "version": 3
   },
   "file_extension": ".py",
   "mimetype": "text/x-python",
   "name": "python",
   "nbconvert_exporter": "python",
   "pygments_lexer": "ipython3",
   "version": "3.11.4"
  },
  "orig_nbformat": 4
 },
 "nbformat": 4,
 "nbformat_minor": 2
}
