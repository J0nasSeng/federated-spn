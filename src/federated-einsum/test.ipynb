{
 "cells": [
  {
   "cell_type": "code",
   "execution_count": 1,
   "metadata": {},
   "outputs": [],
   "source": [
    "from conditional_feinsum import init_spn\n",
    "import torch\n",
    "from torch.autograd import Variable\n",
    "from torch.utils.data import Subset, DataLoader\n",
    "from torchvision.datasets import ImageNet\n",
    "from torchvision.transforms import Compose, CenterCrop, Resize, ToTensor\n",
    "from utils import set_einet_weights, extract_image_patches, get_surrounding_patches\n",
    "import numpy as np\n",
    "from nns import MLP\n",
    "import config\n",
    "import torch.nn.functional as F\n",
    "from PIL import Image"
   ]
  },
  {
   "cell_type": "code",
   "execution_count": 3,
   "metadata": {},
   "outputs": [
    {
     "name": "stdout",
     "output_type": "stream",
     "text": [
      "{0}\n"
     ]
    }
   ],
   "source": [
    "device = torch.device('cuda:0')\n",
    "einet = init_spn(device)"
   ]
  },
  {
   "cell_type": "code",
   "execution_count": 4,
   "metadata": {},
   "outputs": [
    {
     "name": "stdout",
     "output_type": "stream",
     "text": [
      "einet_layers.0.ef_array.params\n",
      "torch.Size([3136, 10, 1, 6])\n",
      "einet_layers.1.params\n",
      "torch.Size([10, 10, 10, 4])\n",
      "einet_layers.2.params\n",
      "torch.Size([10, 10, 1, 2])\n",
      "einet_layers.3.params\n",
      "torch.Size([1, 1, 2])\n"
     ]
    },
    {
     "data": {
      "text/plain": [
       "192362"
      ]
     },
     "execution_count": 4,
     "metadata": {},
     "output_type": "execute_result"
    }
   ],
   "source": [
    "num_params = 0\n",
    "for n, p in einet.named_parameters():\n",
    "    print(n)\n",
    "    print(p.shape)\n",
    "    num_params += np.prod(list(p.shape))\n",
    "num_params"
   ]
  },
  {
   "cell_type": "code",
   "execution_count": 4,
   "metadata": {},
   "outputs": [],
   "source": [
    "transform = Compose([ToTensor(), Resize(112), CenterCrop(112)])\n",
    "imagenet = ImageNet('/storage-01/datasets/imagenet/', transform=transform)\n",
    "clusters = np.load('/storage-01/ml-jseng/imagenet-clusters/vit_cluster_minibatch_10K.npy')\n",
    "img_ids = np.argwhere(clusters == 2400).flatten()\n",
    "subset = Subset(imagenet, img_ids)\n",
    "loader = DataLoader(subset, 32)"
   ]
  },
  {
   "cell_type": "code",
   "execution_count": 5,
   "metadata": {},
   "outputs": [],
   "source": [
    "def train(einet, train_loader, num_epochs, i, j, device):\n",
    "\n",
    "    \"\"\"\n",
    "        Train ConFeinsum\n",
    "    \"\"\"\n",
    "    out_dims = []\n",
    "    for i, p in enumerate(einet.parameters()):\n",
    "        if i == 0:\n",
    "            nv, k, a, th = p.shape\n",
    "            # split mean and variance parameters as variance\n",
    "            # gets relu applied (cannot be negative)\n",
    "            out_dims.append([nv, k, a, th // 2])\n",
    "            out_dims.append([nv, k, a, th // 2])\n",
    "        else:\n",
    "            out_dims.append(list(p.shape))\n",
    "\n",
    "    in_dim = (3*config.num_dims*config.num_vars) + 1000\n",
    "    mlp = MLP(in_dim, out_dims, [256, 512]).to(device)\n",
    "\n",
    "    optim = torch.optim.Adam(mlp.parameters(), 0.01)\n",
    "\n",
    "    for epoch in range(num_epochs):\n",
    "        total_ll = 0.0\n",
    "        for x, y in train_loader:\n",
    "            optim.zero_grad()\n",
    "            x = x.to(device)\n",
    "            y = y.to(device)\n",
    "            # patch images and obtain 8x8 patches\n",
    "            patches = extract_image_patches(x, config.height, config.width)\n",
    "            x_in = patches[:, :, i, j]\n",
    "            x_prev = get_surrounding_patches(patches, i, j, device)\n",
    "            # flatten all previous patches and concat along feature dimension for NN\n",
    "            x_prev = [x.squeeze().reshape(x_in.shape[0], -1) for x in x_prev]\n",
    "            x_prev = torch.cat(x_prev, dim=1)\n",
    "            y_oh = F.one_hot(y, num_classes=1000)\n",
    "            x_prev = torch.cat([x_prev, y_oh], dim=1)\n",
    "            einet_params = mlp(x_prev)\n",
    "            \n",
    "            ll = 0.\n",
    "            x_in = x_in.permute((0, 2, 3, 1))\n",
    "            x_in = x_in.reshape(x_in.shape[0], config.num_vars, config.num_dims)\n",
    "\n",
    "\n",
    "            # set einet parameters for each batch as parameters differ\n",
    "            # for each sample\n",
    "            for k in range(x.shape[0]):\n",
    "                einet_param = [ep[k] for ep in einet_params]\n",
    "                einet = set_einet_weights(einet, einet_param)\n",
    "\n",
    "                # evaluate log-likelihood\n",
    "                x_in_img = x_in[k].unsqueeze(0)\n",
    "\n",
    "                ll += einet(x_in_img).sum()\n",
    "\n",
    "            ll.backward()\n",
    "            total_ll += ll\n",
    "            #print(einet.einet_layers[0].ef_array.ll.grad.shape)\n",
    "            #print([(n, p.grad) for n, p in einet.named_parameters()])\n",
    "            #print([e.grad for e in einet_params])\n",
    "            print([(n, p.grad) for n, p in mlp.named_parameters()])\n",
    "            optim.step()\n",
    "        print(f\"Epoch {epoch} \\t LL: {total_ll}\")\n",
    "\n",
    "    return einet, mlp"
   ]
  },
  {
   "cell_type": "code",
   "execution_count": 6,
   "metadata": {},
   "outputs": [
    {
     "name": "stdout",
     "output_type": "stream",
     "text": [
      "{0}\n"
     ]
    },
    {
     "name": "stderr",
     "output_type": "stream",
     "text": [
      "/home/ml-jseng/anaconda3/envs/federated-spn/lib/python3.11/site-packages/torchvision/transforms/functional.py:1603: UserWarning: The default value of the antialias parameter of all the resizing transforms (Resize(), RandomResizedCrop(), etc.) will change from None to True in v0.17, in order to be consistent across the PIL and Tensor backends. To suppress this warning, directly pass antialias=True (recommended, future default), antialias=None (current default, which means False for Tensors and True for PIL), or antialias=False (only works on Tensors - PIL will still use antialiasing). This also applies if you are using the inference transforms from the models weights: update the call to weights.transforms(antialias=True).\n",
      "  warnings.warn(\n"
     ]
    },
    {
     "name": "stdout",
     "output_type": "stream",
     "text": [
      "[('linear_layers.0.weight', None), ('linear_layers.0.bias', None), ('linear_layers.1.weight', None), ('linear_layers.1.bias', None), ('heads.0.weight', None), ('heads.0.bias', None), ('heads.1.weight', None), ('heads.1.bias', None), ('heads.2.weight', None), ('heads.2.bias', None), ('heads.3.weight', None), ('heads.3.bias', None), ('heads.4.weight', None), ('heads.4.bias', None)]\n",
      "[('linear_layers.0.weight', None), ('linear_layers.0.bias', None), ('linear_layers.1.weight', None), ('linear_layers.1.bias', None), ('heads.0.weight', None), ('heads.0.bias', None), ('heads.1.weight', None), ('heads.1.bias', None), ('heads.2.weight', None), ('heads.2.bias', None), ('heads.3.weight', None), ('heads.3.bias', None), ('heads.4.weight', None), ('heads.4.bias', None)]\n",
      "[('linear_layers.0.weight', None), ('linear_layers.0.bias', None), ('linear_layers.1.weight', None), ('linear_layers.1.bias', None), ('heads.0.weight', None), ('heads.0.bias', None), ('heads.1.weight', None), ('heads.1.bias', None), ('heads.2.weight', None), ('heads.2.bias', None), ('heads.3.weight', None), ('heads.3.bias', None), ('heads.4.weight', None), ('heads.4.bias', None)]\n"
     ]
    },
    {
     "ename": "KeyboardInterrupt",
     "evalue": "",
     "output_type": "error",
     "traceback": [
      "\u001b[0;31m---------------------------------------------------------------------------\u001b[0m",
      "\u001b[0;31mKeyboardInterrupt\u001b[0m                         Traceback (most recent call last)",
      "\u001b[1;32m/home/ml-jseng/code/federated-spn/src/federated-einsum/test.ipynb Cell 6\u001b[0m line \u001b[0;36m3\n\u001b[1;32m      <a href='vscode-notebook-cell://ssh-remote%2B130.83.185.147/home/ml-jseng/code/federated-spn/src/federated-einsum/test.ipynb#X10sdnNjb2RlLXJlbW90ZQ%3D%3D?line=0'>1</a>\u001b[0m device \u001b[39m=\u001b[39m torch\u001b[39m.\u001b[39mdevice(\u001b[39m'\u001b[39m\u001b[39mcuda:0\u001b[39m\u001b[39m'\u001b[39m)\n\u001b[1;32m      <a href='vscode-notebook-cell://ssh-remote%2B130.83.185.147/home/ml-jseng/code/federated-spn/src/federated-einsum/test.ipynb#X10sdnNjb2RlLXJlbW90ZQ%3D%3D?line=1'>2</a>\u001b[0m einet \u001b[39m=\u001b[39m init_spn(device)\n\u001b[0;32m----> <a href='vscode-notebook-cell://ssh-remote%2B130.83.185.147/home/ml-jseng/code/federated-spn/src/federated-einsum/test.ipynb#X10sdnNjb2RlLXJlbW90ZQ%3D%3D?line=2'>3</a>\u001b[0m einet, mlp \u001b[39m=\u001b[39m train(einet, loader, \u001b[39m5\u001b[39;49m, \u001b[39m2\u001b[39;49m, \u001b[39m2\u001b[39;49m, device)\n",
      "\u001b[1;32m/home/ml-jseng/code/federated-spn/src/federated-einsum/test.ipynb Cell 6\u001b[0m line \u001b[0;36m2\n\u001b[1;32m     <a href='vscode-notebook-cell://ssh-remote%2B130.83.185.147/home/ml-jseng/code/federated-spn/src/federated-einsum/test.ipynb#X10sdnNjb2RlLXJlbW90ZQ%3D%3D?line=21'>22</a>\u001b[0m \u001b[39mfor\u001b[39;00m epoch \u001b[39min\u001b[39;00m \u001b[39mrange\u001b[39m(num_epochs):\n\u001b[1;32m     <a href='vscode-notebook-cell://ssh-remote%2B130.83.185.147/home/ml-jseng/code/federated-spn/src/federated-einsum/test.ipynb#X10sdnNjb2RlLXJlbW90ZQ%3D%3D?line=22'>23</a>\u001b[0m     total_ll \u001b[39m=\u001b[39m \u001b[39m0.0\u001b[39m\n\u001b[0;32m---> <a href='vscode-notebook-cell://ssh-remote%2B130.83.185.147/home/ml-jseng/code/federated-spn/src/federated-einsum/test.ipynb#X10sdnNjb2RlLXJlbW90ZQ%3D%3D?line=23'>24</a>\u001b[0m     \u001b[39mfor\u001b[39;00m x, y \u001b[39min\u001b[39;00m train_loader:\n\u001b[1;32m     <a href='vscode-notebook-cell://ssh-remote%2B130.83.185.147/home/ml-jseng/code/federated-spn/src/federated-einsum/test.ipynb#X10sdnNjb2RlLXJlbW90ZQ%3D%3D?line=24'>25</a>\u001b[0m         optim\u001b[39m.\u001b[39mzero_grad()\n\u001b[1;32m     <a href='vscode-notebook-cell://ssh-remote%2B130.83.185.147/home/ml-jseng/code/federated-spn/src/federated-einsum/test.ipynb#X10sdnNjb2RlLXJlbW90ZQ%3D%3D?line=25'>26</a>\u001b[0m         x \u001b[39m=\u001b[39m x\u001b[39m.\u001b[39mto(device)\n",
      "File \u001b[0;32m~/anaconda3/envs/federated-spn/lib/python3.11/site-packages/torch/utils/data/dataloader.py:633\u001b[0m, in \u001b[0;36m_BaseDataLoaderIter.__next__\u001b[0;34m(self)\u001b[0m\n\u001b[1;32m    630\u001b[0m \u001b[39mif\u001b[39;00m \u001b[39mself\u001b[39m\u001b[39m.\u001b[39m_sampler_iter \u001b[39mis\u001b[39;00m \u001b[39mNone\u001b[39;00m:\n\u001b[1;32m    631\u001b[0m     \u001b[39m# TODO(https://github.com/pytorch/pytorch/issues/76750)\u001b[39;00m\n\u001b[1;32m    632\u001b[0m     \u001b[39mself\u001b[39m\u001b[39m.\u001b[39m_reset()  \u001b[39m# type: ignore[call-arg]\u001b[39;00m\n\u001b[0;32m--> 633\u001b[0m data \u001b[39m=\u001b[39m \u001b[39mself\u001b[39;49m\u001b[39m.\u001b[39;49m_next_data()\n\u001b[1;32m    634\u001b[0m \u001b[39mself\u001b[39m\u001b[39m.\u001b[39m_num_yielded \u001b[39m+\u001b[39m\u001b[39m=\u001b[39m \u001b[39m1\u001b[39m\n\u001b[1;32m    635\u001b[0m \u001b[39mif\u001b[39;00m \u001b[39mself\u001b[39m\u001b[39m.\u001b[39m_dataset_kind \u001b[39m==\u001b[39m _DatasetKind\u001b[39m.\u001b[39mIterable \u001b[39mand\u001b[39;00m \\\n\u001b[1;32m    636\u001b[0m         \u001b[39mself\u001b[39m\u001b[39m.\u001b[39m_IterableDataset_len_called \u001b[39mis\u001b[39;00m \u001b[39mnot\u001b[39;00m \u001b[39mNone\u001b[39;00m \u001b[39mand\u001b[39;00m \\\n\u001b[1;32m    637\u001b[0m         \u001b[39mself\u001b[39m\u001b[39m.\u001b[39m_num_yielded \u001b[39m>\u001b[39m \u001b[39mself\u001b[39m\u001b[39m.\u001b[39m_IterableDataset_len_called:\n",
      "File \u001b[0;32m~/anaconda3/envs/federated-spn/lib/python3.11/site-packages/torch/utils/data/dataloader.py:677\u001b[0m, in \u001b[0;36m_SingleProcessDataLoaderIter._next_data\u001b[0;34m(self)\u001b[0m\n\u001b[1;32m    675\u001b[0m \u001b[39mdef\u001b[39;00m \u001b[39m_next_data\u001b[39m(\u001b[39mself\u001b[39m):\n\u001b[1;32m    676\u001b[0m     index \u001b[39m=\u001b[39m \u001b[39mself\u001b[39m\u001b[39m.\u001b[39m_next_index()  \u001b[39m# may raise StopIteration\u001b[39;00m\n\u001b[0;32m--> 677\u001b[0m     data \u001b[39m=\u001b[39m \u001b[39mself\u001b[39;49m\u001b[39m.\u001b[39;49m_dataset_fetcher\u001b[39m.\u001b[39;49mfetch(index)  \u001b[39m# may raise StopIteration\u001b[39;00m\n\u001b[1;32m    678\u001b[0m     \u001b[39mif\u001b[39;00m \u001b[39mself\u001b[39m\u001b[39m.\u001b[39m_pin_memory:\n\u001b[1;32m    679\u001b[0m         data \u001b[39m=\u001b[39m _utils\u001b[39m.\u001b[39mpin_memory\u001b[39m.\u001b[39mpin_memory(data, \u001b[39mself\u001b[39m\u001b[39m.\u001b[39m_pin_memory_device)\n",
      "File \u001b[0;32m~/anaconda3/envs/federated-spn/lib/python3.11/site-packages/torch/utils/data/_utils/fetch.py:51\u001b[0m, in \u001b[0;36m_MapDatasetFetcher.fetch\u001b[0;34m(self, possibly_batched_index)\u001b[0m\n\u001b[1;32m     49\u001b[0m         data \u001b[39m=\u001b[39m \u001b[39mself\u001b[39m\u001b[39m.\u001b[39mdataset\u001b[39m.\u001b[39m__getitems__(possibly_batched_index)\n\u001b[1;32m     50\u001b[0m     \u001b[39melse\u001b[39;00m:\n\u001b[0;32m---> 51\u001b[0m         data \u001b[39m=\u001b[39m [\u001b[39mself\u001b[39;49m\u001b[39m.\u001b[39;49mdataset[idx] \u001b[39mfor\u001b[39;49;00m idx \u001b[39min\u001b[39;49;00m possibly_batched_index]\n\u001b[1;32m     52\u001b[0m \u001b[39melse\u001b[39;00m:\n\u001b[1;32m     53\u001b[0m     data \u001b[39m=\u001b[39m \u001b[39mself\u001b[39m\u001b[39m.\u001b[39mdataset[possibly_batched_index]\n",
      "File \u001b[0;32m~/anaconda3/envs/federated-spn/lib/python3.11/site-packages/torch/utils/data/_utils/fetch.py:51\u001b[0m, in \u001b[0;36m<listcomp>\u001b[0;34m(.0)\u001b[0m\n\u001b[1;32m     49\u001b[0m         data \u001b[39m=\u001b[39m \u001b[39mself\u001b[39m\u001b[39m.\u001b[39mdataset\u001b[39m.\u001b[39m__getitems__(possibly_batched_index)\n\u001b[1;32m     50\u001b[0m     \u001b[39melse\u001b[39;00m:\n\u001b[0;32m---> 51\u001b[0m         data \u001b[39m=\u001b[39m [\u001b[39mself\u001b[39;49m\u001b[39m.\u001b[39;49mdataset[idx] \u001b[39mfor\u001b[39;00m idx \u001b[39min\u001b[39;00m possibly_batched_index]\n\u001b[1;32m     52\u001b[0m \u001b[39melse\u001b[39;00m:\n\u001b[1;32m     53\u001b[0m     data \u001b[39m=\u001b[39m \u001b[39mself\u001b[39m\u001b[39m.\u001b[39mdataset[possibly_batched_index]\n",
      "File \u001b[0;32m~/anaconda3/envs/federated-spn/lib/python3.11/site-packages/torch/utils/data/dataset.py:298\u001b[0m, in \u001b[0;36mSubset.__getitem__\u001b[0;34m(self, idx)\u001b[0m\n\u001b[1;32m    296\u001b[0m \u001b[39mif\u001b[39;00m \u001b[39misinstance\u001b[39m(idx, \u001b[39mlist\u001b[39m):\n\u001b[1;32m    297\u001b[0m     \u001b[39mreturn\u001b[39;00m \u001b[39mself\u001b[39m\u001b[39m.\u001b[39mdataset[[\u001b[39mself\u001b[39m\u001b[39m.\u001b[39mindices[i] \u001b[39mfor\u001b[39;00m i \u001b[39min\u001b[39;00m idx]]\n\u001b[0;32m--> 298\u001b[0m \u001b[39mreturn\u001b[39;00m \u001b[39mself\u001b[39;49m\u001b[39m.\u001b[39;49mdataset[\u001b[39mself\u001b[39;49m\u001b[39m.\u001b[39;49mindices[idx]]\n",
      "File \u001b[0;32m~/anaconda3/envs/federated-spn/lib/python3.11/site-packages/torchvision/datasets/folder.py:229\u001b[0m, in \u001b[0;36mDatasetFolder.__getitem__\u001b[0;34m(self, index)\u001b[0m\n\u001b[1;32m    221\u001b[0m \u001b[39m\u001b[39m\u001b[39m\"\"\"\u001b[39;00m\n\u001b[1;32m    222\u001b[0m \u001b[39mArgs:\u001b[39;00m\n\u001b[1;32m    223\u001b[0m \u001b[39m    index (int): Index\u001b[39;00m\n\u001b[0;32m   (...)\u001b[0m\n\u001b[1;32m    226\u001b[0m \u001b[39m    tuple: (sample, target) where target is class_index of the target class.\u001b[39;00m\n\u001b[1;32m    227\u001b[0m \u001b[39m\"\"\"\u001b[39;00m\n\u001b[1;32m    228\u001b[0m path, target \u001b[39m=\u001b[39m \u001b[39mself\u001b[39m\u001b[39m.\u001b[39msamples[index]\n\u001b[0;32m--> 229\u001b[0m sample \u001b[39m=\u001b[39m \u001b[39mself\u001b[39;49m\u001b[39m.\u001b[39;49mloader(path)\n\u001b[1;32m    230\u001b[0m \u001b[39mif\u001b[39;00m \u001b[39mself\u001b[39m\u001b[39m.\u001b[39mtransform \u001b[39mis\u001b[39;00m \u001b[39mnot\u001b[39;00m \u001b[39mNone\u001b[39;00m:\n\u001b[1;32m    231\u001b[0m     sample \u001b[39m=\u001b[39m \u001b[39mself\u001b[39m\u001b[39m.\u001b[39mtransform(sample)\n",
      "File \u001b[0;32m~/anaconda3/envs/federated-spn/lib/python3.11/site-packages/torchvision/datasets/folder.py:268\u001b[0m, in \u001b[0;36mdefault_loader\u001b[0;34m(path)\u001b[0m\n\u001b[1;32m    266\u001b[0m     \u001b[39mreturn\u001b[39;00m accimage_loader(path)\n\u001b[1;32m    267\u001b[0m \u001b[39melse\u001b[39;00m:\n\u001b[0;32m--> 268\u001b[0m     \u001b[39mreturn\u001b[39;00m pil_loader(path)\n",
      "File \u001b[0;32m~/anaconda3/envs/federated-spn/lib/python3.11/site-packages/torchvision/datasets/folder.py:246\u001b[0m, in \u001b[0;36mpil_loader\u001b[0;34m(path)\u001b[0m\n\u001b[1;32m    244\u001b[0m \u001b[39mdef\u001b[39;00m \u001b[39mpil_loader\u001b[39m(path: \u001b[39mstr\u001b[39m) \u001b[39m-\u001b[39m\u001b[39m>\u001b[39m Image\u001b[39m.\u001b[39mImage:\n\u001b[1;32m    245\u001b[0m     \u001b[39m# open path as file to avoid ResourceWarning (https://github.com/python-pillow/Pillow/issues/835)\u001b[39;00m\n\u001b[0;32m--> 246\u001b[0m     \u001b[39mwith\u001b[39;00m \u001b[39mopen\u001b[39m(path, \u001b[39m\"\u001b[39m\u001b[39mrb\u001b[39m\u001b[39m\"\u001b[39m) \u001b[39mas\u001b[39;00m f:\n\u001b[1;32m    247\u001b[0m         img \u001b[39m=\u001b[39m Image\u001b[39m.\u001b[39mopen(f)\n\u001b[1;32m    248\u001b[0m         \u001b[39mreturn\u001b[39;00m img\u001b[39m.\u001b[39mconvert(\u001b[39m\"\u001b[39m\u001b[39mRGB\u001b[39m\u001b[39m\"\u001b[39m)\n",
      "\u001b[0;31mKeyboardInterrupt\u001b[0m: "
     ]
    }
   ],
   "source": [
    "device = torch.device('cuda:0')\n",
    "einet = init_spn(device)\n",
    "einet, mlp = train(einet, loader, 5, 2, 2, device)"
   ]
  },
  {
   "cell_type": "code",
   "execution_count": null,
   "metadata": {},
   "outputs": [
    {
     "data": {
      "image/png": "[encoded data removed]",
      "text/plain": [
       "<PIL.Image.Image image mode=RGB size=8x8>"
      ]
     },
     "metadata": {},
     "output_type": "display_data"
    },
    {
     "data": {
      "image/png": "[encoded data removed]",
      "text/plain": [
       "<PIL.Image.Image image mode=RGB size=8x8>"
      ]
     },
     "metadata": {},
     "output_type": "display_data"
    },
    {
     "data": {
      "image/png": "[encoded data removed]",
      "text/plain": [
       "<PIL.Image.Image image mode=RGB size=8x8>"
      ]
     },
     "metadata": {},
     "output_type": "display_data"
    },
    {
     "data": {
      "image/png": "[encoded data removed]",
      "text/plain": [
       "<PIL.Image.Image image mode=RGB size=8x8>"
      ]
     },
     "metadata": {},
     "output_type": "display_data"
    },
    {
     "data": {
      "image/png": "[encoded data removed]",
      "text/plain": [
       "<PIL.Image.Image image mode=RGB size=8x8>"
      ]
     },
     "metadata": {},
     "output_type": "display_data"
    },
    {
     "data": {
      "image/png": "[encoded data removed]",
      "text/plain": [
       "<PIL.Image.Image image mode=RGB size=8x8>"
      ]
     },
     "metadata": {},
     "output_type": "display_data"
    },
    {
     "data": {
      "image/png": "[encoded data removed]",
      "text/plain": [
       "<PIL.Image.Image image mode=RGB size=8x8>"
      ]
     },
     "metadata": {},
     "output_type": "display_data"
    },
    {
     "data": {
      "image/png": "[encoded data removed]",
      "text/plain": [
       "<PIL.Image.Image image mode=RGB size=8x8>"
      ]
     },
     "metadata": {},
     "output_type": "display_data"
    },
    {
     "data": {
      "image/png": "[encoded data removed]",
      "text/plain": [
       "<PIL.Image.Image image mode=RGB size=8x8>"
      ]
     },
     "metadata": {},
     "output_type": "display_data"
    },
    {
     "data": {
      "image/png": "[encoded data removed]",
      "text/plain": [
       "<PIL.Image.Image image mode=RGB size=8x8>"
      ]
     },
     "metadata": {},
     "output_type": "display_data"
    },
    {
     "data": {
      "image/png": "[encoded data removed]",
      "text/plain": [
       "<PIL.Image.Image image mode=RGB size=8x8>"
      ]
     },
     "metadata": {},
     "output_type": "display_data"
    },
    {
     "data": {
      "image/png": "[encoded data removed]",
      "text/plain": [
       "<PIL.Image.Image image mode=RGB size=8x8>"
      ]
     },
     "metadata": {},
     "output_type": "display_data"
    },
    {
     "data": {
      "image/png": "[encoded data removed]",
      "text/plain": [
       "<PIL.Image.Image image mode=RGB size=8x8>"
      ]
     },
     "metadata": {},
     "output_type": "display_data"
    },
    {
     "data": {
      "image/png": "[encoded data removed]",
      "text/plain": [
       "<PIL.Image.Image image mode=RGB size=8x8>"
      ]
     },
     "metadata": {},
     "output_type": "display_data"
    },
    {
     "data": {
      "image/png": "[encoded data removed]",
      "text/plain": [
       "<PIL.Image.Image image mode=RGB size=8x8>"
      ]
     },
     "metadata": {},
     "output_type": "display_data"
    },
    {
     "data": {
      "image/png": "[encoded data removed]",
      "text/plain": [
       "<PIL.Image.Image image mode=RGB size=8x8>"
      ]
     },
     "metadata": {},
     "output_type": "display_data"
    },
    {
     "data": {
      "image/png": "[encoded data removed]",
      "text/plain": [
       "<PIL.Image.Image image mode=RGB size=8x8>"
      ]
     },
     "metadata": {},
     "output_type": "display_data"
    },
    {
     "data": {
      "image/png": "[encoded data removed]",
      "text/plain": [
       "<PIL.Image.Image image mode=RGB size=8x8>"
      ]
     },
     "metadata": {},
     "output_type": "display_data"
    },
    {
     "data": {
      "image/png": "[encoded data removed]",
      "text/plain": [
       "<PIL.Image.Image image mode=RGB size=8x8>"
      ]
     },
     "metadata": {},
     "output_type": "display_data"
    },
    {
     "data": {
      "image/png": "[encoded data removed]",
      "text/plain": [
       "<PIL.Image.Image image mode=RGB size=8x8>"
      ]
     },
     "metadata": {},
     "output_type": "display_data"
    }
   ],
   "source": [
    "for i in range(10):\n",
    "    x, y = subset[i]\n",
    "    x = x.unsqueeze(0)\n",
    "    patches = extract_image_patches(x, 8, 8)\n",
    "    x = patches[0, :, 2, 2]\n",
    "    s = get_surrounding_patches(patches, 2, 2)[0][0]\n",
    "    x = x * 255\n",
    "    x = x.permute(1, 2, 0)\n",
    "    s = s * 255\n",
    "    s = s.permute(1, 2, 0)\n",
    "    img = x.numpy().astype(np.uint8)\n",
    "    pimg = Image.fromarray(img)\n",
    "    pimg.show()\n",
    "    imgs = s.numpy().astype(np.uint8)\n",
    "    pimgs = Image.fromarray(imgs)\n",
    "    pimgs.show()"
   ]
  },
  {
   "cell_type": "code",
   "execution_count": 12,
   "metadata": {},
   "outputs": [],
   "source": [
    "a = torch.randn(3, 12, 3)\n",
    "b = torch.cat((a, a**2), dim=-1)"
   ]
  },
  {
   "cell_type": "code",
   "execution_count": 14,
   "metadata": {},
   "outputs": [
    {
     "data": {
      "text/plain": [
       "tensor([-0.5499,  0.3395, -0.2652,  0.3024,  0.1153,  0.0703])"
      ]
     },
     "execution_count": 14,
     "metadata": {},
     "output_type": "execute_result"
    }
   ],
   "source": [
    "b[0, 0]"
   ]
  },
  {
   "cell_type": "code",
   "execution_count": 19,
   "metadata": {},
   "outputs": [
    {
     "data": {
      "text/plain": [
       "[3]"
      ]
     },
     "execution_count": 19,
     "metadata": {},
     "output_type": "execute_result"
    }
   ],
   "source": [
    "a = [1, 2, 3]\n",
    "a[2:]"
   ]
  },
  {
   "cell_type": "code",
   "execution_count": 6,
   "metadata": {},
   "outputs": [],
   "source": [
    "from torch.autograd import Variable\n",
    "import torch.nn"
   ]
  },
  {
   "cell_type": "code",
   "execution_count": 14,
   "metadata": {},
   "outputs": [],
   "source": [
    "w = Variable(torch.randn(3, 3), requires_grad=True)\n",
    "x = torch.randn(5, 3)\n",
    "y = torch.mm(x, w)\n",
    "x_ = torch.randn(3, 5)\n",
    "y_ = torch.mm(x_, y)\n",
    "l = torch.sum(y_)\n",
    "l.backward()"
   ]
  },
  {
   "cell_type": "code",
   "execution_count": 15,
   "metadata": {},
   "outputs": [
    {
     "data": {
      "text/plain": [
       "tensor([[-0.1417, -0.1417, -0.1417],\n",
       "        [ 0.6123,  0.6123,  0.6123],\n",
       "        [ 0.3511,  0.3511,  0.3511]])"
      ]
     },
     "execution_count": 15,
     "metadata": {},
     "output_type": "execute_result"
    }
   ],
   "source": [
    "w.grad"
   ]
  },
  {
   "cell_type": "code",
   "execution_count": null,
   "metadata": {},
   "outputs": [],
   "source": []
  },
  {
   "cell_type": "code",
   "execution_count": null,
   "metadata": {},
   "outputs": [],
   "source": []
  },
  {
   "cell_type": "code",
   "execution_count": 13,
   "metadata": {},
   "outputs": [],
   "source": [
    "from conditional_feinsum import init_spn\n",
    "from ceinsum import EinsumNetwork, Graph, EinetMixture\n",
    "import torch\n",
    "from torch.autograd import Variable\n",
    "from torch.utils.data import Subset, DataLoader\n",
    "from torchvision.datasets import ImageNet\n",
    "from torchvision.transforms import Compose, CenterCrop, Resize, ToTensor\n",
    "import numpy as np\n",
    "from nns import MLP, CNN\n",
    "import config\n",
    "import torch.nn.functional as F\n",
    "from PIL import Image\n",
    "\n",
    "def init_spn(device):\n",
    "    \"\"\"\n",
    "        Build a SPN (implemented as an einsum network). The structure is either\n",
    "        the same as proposed in https://arxiv.org/pdf/1202.3732.pdf (referred to as\n",
    "        poon-domingos) or a binary tree.\n",
    "\n",
    "        In case of poon-domingos the image is split into smaller hypercubes (i.e. a set of\n",
    "        neighbored pixels) where each pixel is a random variable. These hypercubes are split further\n",
    "        until we operate on pixel-level. The spplitting is done randomly. For more information\n",
    "        refer to the link above.\n",
    "    \"\"\"\n",
    "\n",
    "    if config.structure == 'poon-domingos':\n",
    "        pd_delta = [[config.height / d, config.width / d] for d in config.pd_num_pieces]\n",
    "        graph = Graph.poon_domingos_structure(shape=(config.height, config.width), delta=pd_delta)\n",
    "    elif config.structure == 'binary-trees':\n",
    "        graph = Graph.random_binary_trees(num_var=config.num_vars, depth=config.depth, num_repetitions=config.num_repetitions)\n",
    "    elif config.structure == 'flat-binary-tree':\n",
    "        graph = Graph.binary_tree_spn(shape=(config.height, config.width))\n",
    "    else:\n",
    "        raise AssertionError(\"Unknown Structure\")\n",
    "\n",
    "    args = EinsumNetwork.Args(\n",
    "            num_var=config.num_vars,\n",
    "            num_dims=config.num_dims,\n",
    "            num_classes=1,\n",
    "            num_sums=config.K,\n",
    "            num_input_distributions=config.K,\n",
    "            exponential_family=config.exponential_family,\n",
    "            exponential_family_args=config.exponential_family_args,\n",
    "            online_em_frequency=config.online_em_frequency,\n",
    "            online_em_stepsize=config.online_em_stepsize)\n",
    "    \n",
    "    in_dim = (3*config.num_dims*config.num_vars) #+ 1000\n",
    "    out_dims = [[config.num_vars, config.K, 1, config.num_dims],\n",
    "                [config.num_vars, config.K, 1, config.num_dims], \n",
    "                [config.K, config.K, config.K, 4],\n",
    "                [config.K, config.K, 1, 2],\n",
    "                [1, 1, 2]]\n",
    "    #mlp = CNN(out_dims)\n",
    "    mlp = MLP(in_dim, out_dims, [512, 256]).to(device)\n",
    "   # for l in mlp.linear_layers:\n",
    "   #     torch.nn.init.xavier_normal_(l.weight)\n",
    "   # for h in mlp.heads:\n",
    "   #     torch.nn.init.xavier_normal_(h.weight)\n",
    "    einet = EinsumNetwork.EinsumNetwork(graph, mlp, (14, 14), args)\n",
    "    einet.initialize()\n",
    "    einet.to(device)\n",
    "    return einet"
   ]
  },
  {
   "cell_type": "code",
   "execution_count": 2,
   "metadata": {},
   "outputs": [],
   "source": [
    "transform = Compose([ToTensor(), Resize(112), CenterCrop(112)])\n",
    "imagenet = ImageNet('/storage-01/datasets/imagenet/', transform=transform)\n",
    "clusters = np.load('/storage-01/ml-jseng/imagenet-clusters/vit_cluster_minibatch_10K.npy')\n",
    "img_ids = np.argwhere(clusters == 2400).flatten()\n",
    "subset = Subset(imagenet, img_ids)\n",
    "loader = DataLoader(subset, 64)\n",
    "device = torch.device('cuda:0')"
   ]
  },
  {
   "cell_type": "code",
   "execution_count": 3,
   "metadata": {},
   "outputs": [],
   "source": [
    "def train(einet, train_loader, num_epochs, i, j, device):\n",
    "\n",
    "    \"\"\"\n",
    "        Train ConFeinsum\n",
    "    \"\"\"\n",
    "\n",
    "    optim = torch.optim.Adam(einet.param_nn.parameters(), 0.004)\n",
    "    lr_schedule = torch.optim.lr_scheduler.ExponentialLR(optim, 0.97)\n",
    "    #halving_rate = 15\n",
    "    #epochs_since_last_halving = 0\n",
    "\n",
    "    for epoch in range(num_epochs):\n",
    "        total_ll = 0.0\n",
    "        print(f\"LR={round(lr_schedule.get_lr()[0], 7)}\")\n",
    "        for x, y in train_loader:\n",
    "            optim.zero_grad()\n",
    "            x = x.to(device)\n",
    "            y = y.to(device)\n",
    "            \n",
    "            ll = einet(x, y, i, j)\n",
    "            ll.backward()\n",
    "\n",
    "            #torch.nn.utils.clip_grad.clip_grad_norm_(einet.param_nn.parameters(), 1.)\n",
    "\n",
    "            total_ll += ll\n",
    "\n",
    "            optim.step()\n",
    "        #epochs_since_last_halving += 1\n",
    "        lr_schedule.step()\n",
    "\n",
    "        #if epochs_since_last_halving % halving_rate == 0 and halving_rate > 5:\n",
    "        #    print(\"Halving lr\")\n",
    "        #    for g in optim.param_groups:\n",
    "        #        g['lr'] = g['lr'] * 0.5\n",
    "            #halving_rate = int(halving_rate * 0.5)\n",
    "        #   epochs_since_last_halving = 0\n",
    "        print(f\"Epoch {epoch} \\t LL: {total_ll}\")\n",
    "\n",
    "    return einet"
   ]
  },
  {
   "cell_type": "code",
   "execution_count": 4,
   "metadata": {},
   "outputs": [
    {
     "name": "stdout",
     "output_type": "stream",
     "text": [
      "{0}\n",
      "LR=0.004\n"
     ]
    },
    {
     "name": "stderr",
     "output_type": "stream",
     "text": [
      "/home/ml-jseng/anaconda3/envs/federated-spn/lib/python3.11/site-packages/torch/optim/lr_scheduler.py:595: UserWarning: To get the last learning rate computed by the scheduler, please use `get_last_lr()`.\n",
      "  warnings.warn(\"To get the last learning rate computed by the scheduler, \"\n",
      "/home/ml-jseng/anaconda3/envs/federated-spn/lib/python3.11/site-packages/torchvision/transforms/functional.py:1603: UserWarning: The default value of the antialias parameter of all the resizing transforms (Resize(), RandomResizedCrop(), etc.) will change from None to True in v0.17, in order to be consistent across the PIL and Tensor backends. To suppress this warning, directly pass antialias=True (recommended, future default), antialias=None (current default, which means False for Tensors and True for PIL), or antialias=False (only works on Tensors - PIL will still use antialiasing). This also applies if you are using the inference transforms from the models weights: update the call to weights.transforms(antialias=True).\n",
      "  warnings.warn(\n"
     ]
    },
    {
     "name": "stdout",
     "output_type": "stream",
     "text": [
      "Epoch 0 \t LL: 267959.625\n",
      "LR=0.0037636\n",
      "Epoch 1 \t LL: 151659.3125\n",
      "LR=0.0036507\n",
      "Epoch 2 \t LL: 41982.29296875\n",
      "LR=0.0035412\n",
      "Epoch 3 \t LL: 29960.900390625\n",
      "LR=0.0034349\n",
      "Epoch 4 \t LL: 28621.775390625\n",
      "LR=0.0033319\n",
      "Epoch 5 \t LL: 27341.064453125\n",
      "LR=0.0032319\n",
      "Epoch 6 \t LL: 25901.0546875\n",
      "LR=0.003135\n",
      "Epoch 7 \t LL: 24085.529296875\n",
      "LR=0.0030409\n",
      "Epoch 8 \t LL: 23046.271484375\n",
      "LR=0.0029497\n",
      "Epoch 9 \t LL: 22000.71484375\n",
      "LR=0.0028612\n",
      "Epoch 10 \t LL: 21570.361328125\n",
      "LR=0.0027754\n",
      "Epoch 11 \t LL: 21217.775390625\n",
      "LR=0.0026921\n",
      "Epoch 12 \t LL: 20796.18359375\n",
      "LR=0.0026113\n",
      "Epoch 13 \t LL: 20456.345703125\n",
      "LR=0.002533\n",
      "Epoch 14 \t LL: 20291.25\n",
      "LR=0.002457\n",
      "Epoch 15 \t LL: 20155.861328125\n",
      "LR=0.0023833\n",
      "Epoch 16 \t LL: 20029.078125\n",
      "LR=0.0023118\n",
      "Epoch 17 \t LL: 19935.4453125\n",
      "LR=0.0022425\n",
      "Epoch 18 \t LL: 19878.44140625\n",
      "LR=0.0021752\n",
      "Epoch 19 \t LL: 19824.32421875\n",
      "LR=0.0021099\n",
      "Epoch 20 \t LL: 19785.111328125\n",
      "LR=0.0020466\n",
      "Epoch 21 \t LL: 19759.232421875\n",
      "LR=0.0019852\n",
      "Epoch 22 \t LL: 19746.51953125\n",
      "LR=0.0019257\n",
      "Epoch 23 \t LL: 19726.4375\n",
      "LR=0.0018679\n",
      "Epoch 24 \t LL: 19704.40625\n",
      "LR=0.0018119\n",
      "Epoch 25 \t LL: 19689.5703125\n",
      "LR=0.0017575\n",
      "Epoch 26 \t LL: 19683.0078125\n",
      "LR=0.0017048\n",
      "Epoch 27 \t LL: 19675.48046875\n",
      "LR=0.0016536\n",
      "Epoch 28 \t LL: 19666.185546875\n",
      "LR=0.001604\n",
      "Epoch 29 \t LL: 19655.294921875\n",
      "LR=0.0015559\n",
      "Epoch 30 \t LL: 19648.17578125\n",
      "LR=0.0015092\n",
      "Epoch 31 \t LL: 19643.009765625\n",
      "LR=0.001464\n",
      "Epoch 32 \t LL: 19636.740234375\n",
      "LR=0.00142\n",
      "Epoch 33 \t LL: 19630.19140625\n",
      "LR=0.0013774\n",
      "Epoch 34 \t LL: 19624.6171875\n",
      "LR=0.0013361\n",
      "Epoch 35 \t LL: 19619.65625\n",
      "LR=0.001296\n",
      "Epoch 36 \t LL: 19614.44921875\n",
      "LR=0.0012571\n",
      "Epoch 37 \t LL: 19609.2578125\n",
      "LR=0.0012194\n",
      "Epoch 38 \t LL: 19604.4609375\n",
      "LR=0.0011828\n",
      "Epoch 39 \t LL: 19599.892578125\n",
      "LR=0.0011474\n",
      "Epoch 40 \t LL: 19595.4375\n",
      "LR=0.0011129\n",
      "Epoch 41 \t LL: 19591.10546875\n",
      "LR=0.0010796\n",
      "Epoch 42 \t LL: 19586.9453125\n",
      "LR=0.0010472\n",
      "Epoch 43 \t LL: 19582.849609375\n",
      "LR=0.0010158\n",
      "Epoch 44 \t LL: 19578.8828125\n",
      "LR=0.0009853\n",
      "Epoch 45 \t LL: 19575.08203125\n",
      "LR=0.0009557\n",
      "Epoch 46 \t LL: 19571.44921875\n",
      "LR=0.0009271\n",
      "Epoch 47 \t LL: 19567.92578125\n",
      "LR=0.0008992\n",
      "Epoch 48 \t LL: 19564.486328125\n",
      "LR=0.0008723\n",
      "Epoch 49 \t LL: 19561.1484375\n",
      "LR=0.0008461\n",
      "Epoch 50 \t LL: 19557.919921875\n",
      "LR=0.0008207\n",
      "Epoch 51 \t LL: 19554.796875\n",
      "LR=0.0007961\n",
      "Epoch 52 \t LL: 19551.7734375\n",
      "LR=0.0007722\n",
      "Epoch 53 \t LL: 19548.8125\n",
      "LR=0.000749\n",
      "Epoch 54 \t LL: 19545.97265625\n",
      "LR=0.0007266\n",
      "Epoch 55 \t LL: 19543.2109375\n",
      "LR=0.0007048\n",
      "Epoch 56 \t LL: 19540.529296875\n",
      "LR=0.0006836\n",
      "Epoch 57 \t LL: 19537.94140625\n",
      "LR=0.0006631\n",
      "Epoch 58 \t LL: 19535.419921875\n",
      "LR=0.0006432\n",
      "Epoch 59 \t LL: 19532.9609375\n",
      "LR=0.0006239\n",
      "Epoch 60 \t LL: 19530.5859375\n",
      "LR=0.0006052\n",
      "Epoch 61 \t LL: 19528.28515625\n",
      "LR=0.0005871\n",
      "Epoch 62 \t LL: 19526.046875\n",
      "LR=0.0005694\n",
      "Epoch 63 \t LL: 19523.87890625\n",
      "LR=0.0005524\n",
      "Epoch 64 \t LL: 19521.7734375\n",
      "LR=0.0005358\n",
      "Epoch 65 \t LL: 19519.734375\n",
      "LR=0.0005197\n",
      "Epoch 66 \t LL: 19517.75\n",
      "LR=0.0005041\n",
      "Epoch 67 \t LL: 19515.822265625\n",
      "LR=0.000489\n",
      "Epoch 68 \t LL: 19513.953125\n",
      "LR=0.0004743\n",
      "Epoch 69 \t LL: 19512.138671875\n",
      "LR=0.0004601\n",
      "Epoch 70 \t LL: 19510.3828125\n",
      "LR=0.0004463\n",
      "Epoch 71 \t LL: 19508.669921875\n",
      "LR=0.0004329\n",
      "Epoch 72 \t LL: 19507.015625\n",
      "LR=0.0004199\n",
      "Epoch 73 \t LL: 19505.3984375\n",
      "LR=0.0004073\n",
      "Epoch 74 \t LL: 19503.83203125\n",
      "LR=0.0003951\n",
      "Epoch 75 \t LL: 19502.322265625\n",
      "LR=0.0003833\n",
      "Epoch 76 \t LL: 19500.8515625\n",
      "LR=0.0003718\n",
      "Epoch 77 \t LL: 19499.416015625\n",
      "LR=0.0003606\n",
      "Epoch 78 \t LL: 19498.03125\n",
      "LR=0.0003498\n",
      "Epoch 79 \t LL: 19496.68359375\n",
      "LR=0.0003393\n",
      "Epoch 80 \t LL: 19495.373046875\n",
      "LR=0.0003291\n",
      "Epoch 81 \t LL: 19494.1015625\n",
      "LR=0.0003192\n",
      "Epoch 82 \t LL: 19492.87109375\n",
      "LR=0.0003097\n",
      "Epoch 83 \t LL: 19491.671875\n",
      "LR=0.0003004\n",
      "Epoch 84 \t LL: 19490.50390625\n",
      "LR=0.0002914\n",
      "Epoch 85 \t LL: 19489.369140625\n",
      "LR=0.0002826\n",
      "Epoch 86 \t LL: 19488.279296875\n",
      "LR=0.0002741\n",
      "Epoch 87 \t LL: 19487.22265625\n",
      "LR=0.0002659\n",
      "Epoch 88 \t LL: 19486.1953125\n",
      "LR=0.0002579\n",
      "Epoch 89 \t LL: 19485.181640625\n",
      "LR=0.0002502\n",
      "Epoch 90 \t LL: 19484.205078125\n",
      "LR=0.0002427\n",
      "Epoch 91 \t LL: 19483.259765625\n",
      "LR=0.0002354\n",
      "Epoch 92 \t LL: 19482.33984375\n",
      "LR=0.0002284\n",
      "Epoch 93 \t LL: 19481.451171875\n",
      "LR=0.0002215\n",
      "Epoch 94 \t LL: 19480.58203125\n",
      "LR=0.0002149\n",
      "Epoch 95 \t LL: 19479.7421875\n",
      "LR=0.0002084\n",
      "Epoch 96 \t LL: 19478.923828125\n",
      "LR=0.0002022\n",
      "Epoch 97 \t LL: 19478.1328125\n",
      "LR=0.0001961\n",
      "Epoch 98 \t LL: 19477.359375\n",
      "LR=0.0001902\n",
      "Epoch 99 \t LL: 19476.6171875\n",
      "LR=0.0001845\n",
      "Epoch 100 \t LL: 19475.8984375\n",
      "LR=0.000179\n",
      "Epoch 101 \t LL: 19475.1953125\n",
      "LR=0.0001736\n",
      "Epoch 102 \t LL: 19474.509765625\n",
      "LR=0.0001684\n",
      "Epoch 103 \t LL: 19473.84765625\n",
      "LR=0.0001633\n",
      "Epoch 104 \t LL: 19473.193359375\n",
      "LR=0.0001584\n",
      "Epoch 105 \t LL: 19472.568359375\n",
      "LR=0.0001537\n",
      "Epoch 106 \t LL: 19471.958984375\n",
      "LR=0.0001491\n",
      "Epoch 107 \t LL: 19471.37109375\n",
      "LR=0.0001446\n",
      "Epoch 108 \t LL: 19470.794921875\n",
      "LR=0.0001403\n",
      "Epoch 109 \t LL: 19470.2421875\n",
      "LR=0.0001361\n",
      "Epoch 110 \t LL: 19469.69140625\n",
      "LR=0.000132\n",
      "Epoch 111 \t LL: 19469.1640625\n",
      "LR=0.000128\n",
      "Epoch 112 \t LL: 19468.65625\n",
      "LR=0.0001242\n",
      "Epoch 113 \t LL: 19468.16015625\n",
      "LR=0.0001205\n",
      "Epoch 114 \t LL: 19467.68359375\n",
      "LR=0.0001168\n",
      "Epoch 115 \t LL: 19467.216796875\n",
      "LR=0.0001133\n",
      "Epoch 116 \t LL: 19466.763671875\n",
      "LR=0.0001099\n",
      "Epoch 117 \t LL: 19466.3203125\n",
      "LR=0.0001066\n",
      "Epoch 118 \t LL: 19465.896484375\n",
      "LR=0.0001034\n",
      "Epoch 119 \t LL: 19465.48046875\n",
      "LR=0.0001003\n",
      "Epoch 120 \t LL: 19465.080078125\n",
      "LR=9.73e-05\n",
      "Epoch 121 \t LL: 19464.69140625\n",
      "LR=9.44e-05\n",
      "Epoch 122 \t LL: 19464.3125\n",
      "LR=9.16e-05\n",
      "Epoch 123 \t LL: 19463.94921875\n",
      "LR=8.88e-05\n",
      "Epoch 124 \t LL: 19463.587890625\n",
      "LR=8.62e-05\n",
      "Epoch 125 \t LL: 19463.23828125\n",
      "LR=8.36e-05\n",
      "Epoch 126 \t LL: 19462.90234375\n",
      "LR=8.11e-05\n",
      "Epoch 127 \t LL: 19462.576171875\n",
      "LR=7.86e-05\n",
      "Epoch 128 \t LL: 19462.255859375\n",
      "LR=7.63e-05\n",
      "Epoch 129 \t LL: 19461.94140625\n",
      "LR=7.4e-05\n",
      "Epoch 130 \t LL: 19461.64453125\n",
      "LR=7.18e-05\n",
      "Epoch 131 \t LL: 19461.34765625\n",
      "LR=6.96e-05\n",
      "Epoch 132 \t LL: 19461.06640625\n",
      "LR=6.75e-05\n",
      "Epoch 133 \t LL: 19460.791015625\n",
      "LR=6.55e-05\n",
      "Epoch 134 \t LL: 19460.529296875\n",
      "LR=6.35e-05\n",
      "Epoch 135 \t LL: 19460.265625\n",
      "LR=6.16e-05\n",
      "Epoch 136 \t LL: 19460.01171875\n",
      "LR=5.98e-05\n",
      "Epoch 137 \t LL: 19459.765625\n",
      "LR=5.8e-05\n",
      "Epoch 138 \t LL: 19459.529296875\n",
      "LR=5.62e-05\n",
      "Epoch 139 \t LL: 19459.298828125\n",
      "LR=5.46e-05\n",
      "Epoch 140 \t LL: 19459.07421875\n",
      "LR=5.29e-05\n",
      "Epoch 141 \t LL: 19458.859375\n",
      "LR=5.13e-05\n",
      "Epoch 142 \t LL: 19458.65234375\n",
      "LR=4.98e-05\n",
      "Epoch 143 \t LL: 19458.443359375\n",
      "LR=4.83e-05\n",
      "Epoch 144 \t LL: 19458.2421875\n",
      "LR=4.69e-05\n",
      "Epoch 145 \t LL: 19458.05078125\n",
      "LR=4.54e-05\n",
      "Epoch 146 \t LL: 19457.861328125\n",
      "LR=4.41e-05\n",
      "Epoch 147 \t LL: 19457.6875\n",
      "LR=4.28e-05\n",
      "Epoch 148 \t LL: 19457.509765625\n",
      "LR=4.15e-05\n",
      "Epoch 149 \t LL: 19457.337890625\n"
     ]
    }
   ],
   "source": [
    "device = torch.device('cuda:0')\n",
    "einet = init_spn(device)\n",
    "einet = train(einet, loader, 150, 1, 1, device)"
   ]
  },
  {
   "cell_type": "code",
   "execution_count": 14,
   "metadata": {},
   "outputs": [],
   "source": [
    "torch.save(einet.param_nn, './models/model_1_1')"
   ]
  },
  {
   "cell_type": "code",
   "execution_count": 12,
   "metadata": {},
   "outputs": [
    {
     "data": {
      "image/png": "[encoded data removed]",
      "text/plain": [
       "<PIL.Image.Image image mode=RGB size=56x56>"
      ]
     },
     "metadata": {},
     "output_type": "display_data"
    }
   ],
   "source": [
    "x_, y_ = next(iter(loader))\n",
    "x_, y_ = x_.to(device), y_.to(device)\n",
    "x_in, y_in = x_[0].unsqueeze(0), y_[0]\n",
    "s = einet.sample(x_in, y_in, 1, 1)\n",
    "s = s.squeeze().cpu()\n",
    "s = s.reshape(config.height, config.width, 3)\n",
    "s = s * 255\n",
    "img = s.numpy().astype(np.uint8)\n",
    "pimg = Image.fromarray(img)\n",
    "pimg = pimg.resize((56, 56))\n",
    "pimg.show()"
   ]
  },
  {
   "cell_type": "code",
   "execution_count": 9,
   "metadata": {},
   "outputs": [
    {
     "name": "stdout",
     "output_type": "stream",
     "text": [
      "tensor([[0.3238, 0.1136, 0.2181, 0.1661, 0.1784],\n",
      "        [0.1459, 0.4096, 0.0945, 0.2202, 0.1298],\n",
      "        [0.0708, 0.1857, 0.0859, 0.0978, 0.5598],\n",
      "        [0.1229, 0.3782, 0.2502, 0.1008, 0.1478],\n",
      "        [0.2710, 0.1794, 0.2806, 0.2012, 0.0678],\n",
      "        [0.1280, 0.1713, 0.4359, 0.1471, 0.1177],\n",
      "        [0.2160, 0.2227, 0.1990, 0.2155, 0.1468],\n",
      "        [0.1253, 0.3722, 0.1130, 0.3026, 0.0868],\n",
      "        [0.1742, 0.2959, 0.0140, 0.3497, 0.1662],\n",
      "        [0.1915, 0.0413, 0.3288, 0.1525, 0.2860]])\n",
      "tensor([[0.3942, 0.0819, 0.2179, 0.1448, 0.1612],\n",
      "        [0.1121, 0.5274, 0.0584, 0.2079, 0.0941],\n",
      "        [0.0328, 0.1395, 0.0439, 0.0533, 0.7304],\n",
      "        [0.0880, 0.4750, 0.2556, 0.0654, 0.1160],\n",
      "        [0.2979, 0.1604, 0.3138, 0.1906, 0.0373],\n",
      "        [0.0914, 0.1414, 0.5741, 0.1126, 0.0805],\n",
      "        [0.2228, 0.2333, 0.1970, 0.2220, 0.1248],\n",
      "        [0.0885, 0.4528, 0.0758, 0.3319, 0.0510],\n",
      "        [0.1426, 0.3157, 0.0032, 0.4056, 0.1329],\n",
      "        [0.1700, 0.0170, 0.3822, 0.1207, 0.3101]])\n"
     ]
    },
    {
     "name": "stderr",
     "output_type": "stream",
     "text": [
      "/tmp/ipykernel_1862780/4153709868.py:9: UserWarning: Implicit dimension choice for softmax has been deprecated. Change the call to include dim=X as an argument.\n",
      "  s2 = torch.nn.functional.softmax(a)\n"
     ]
    }
   ],
   "source": [
    "import torch\n",
    "def softmax_temp(x, t=1.0, dim=1):\n",
    "    ex = torch.exp(x / t)\n",
    "    s = torch.sum(ex, dim=dim).unsqueeze(1)\n",
    "    return ex / s\n",
    "\n",
    "a = torch.randn(10, 5)\n",
    "s1 = softmax_temp(a, t=1.5)\n",
    "s2 = torch.nn.functional.softmax(a)\n",
    "print(s1)\n",
    "print(s2)"
   ]
  },
  {
   "cell_type": "code",
   "execution_count": 254,
   "metadata": {},
   "outputs": [],
   "source": [
    "def embed_patch_in_img(img, patch, i, j):\n",
    "    \"\"\"\n",
    "        img shape = [1, 3, h, w]\n",
    "        patch shape = [1, 3, 8, 8]\n",
    "        (i, j) = patch index\n",
    "    \"\"\"\n",
    "    i_start, i_end = i*patch.shape[-1], (i+1)*patch.shape[-1]\n",
    "    j_start, j_end = j*patch.shape[-1], (j+1)*patch.shape[-1]\n",
    "    img[0, :, i_start:i_end, j_start:j_end] = patch\n",
    "    return img"
   ]
  },
  {
   "cell_type": "code",
   "execution_count": 291,
   "metadata": {},
   "outputs": [
    {
     "name": "stdout",
     "output_type": "stream",
     "text": [
      "{0}\n"
     ]
    }
   ],
   "source": [
    "# sample from trained SPN\n",
    "device = torch.device('cuda:0')\n",
    "sqrt_num_patches = 5\n",
    "patch_ids = [[i, j] for i in range(1, sqrt_num_patches-1) for j in range(1, sqrt_num_patches-1)]\n",
    "einet = init_spn(device)\n",
    "sample_arr = []\n",
    "x_, y_ = next(iter(loader))\n",
    "x_, y_ = x_.to(device), y_.to(device)\n",
    "x_in, y_in = x_[0].unsqueeze(0), y_[0]\n",
    "last_s = None\n",
    "img = torch.zeros(1, 3, 112, 112).to(device)\n",
    "for i, j in patch_ids:\n",
    "    param_nn = torch.load(f'./models/model_{i}_{j}')\n",
    "    param_nn = param_nn.to(device)\n",
    "    einet.param_nn = param_nn\n",
    "    if True:\n",
    "        s = einet.sample(x_in, y_in, i, j)\n",
    "        s = s.reshape(1, 8, 8, 3).permute(0, 3, 1, 2)\n",
    "        img = embed_patch_in_img(img, s, i, j)\n",
    "    else:\n",
    "        s = einet.sample(img, y_in, i, j)\n",
    "        s = s.reshape(1, 8, 8, 3).permute(0, 3, 1, 2)\n",
    "        img = embed_patch_in_img(img, s, i, j)"
   ]
  },
  {
   "cell_type": "code",
   "execution_count": 292,
   "metadata": {},
   "outputs": [
    {
     "data": {
      "image/png": "[encoded data removed]",
      "text/plain": [
       "<PIL.Image.Image image mode=RGB size=512x512>"
      ]
     },
     "metadata": {},
     "output_type": "display_data"
    }
   ],
   "source": [
    "simg = img[0].permute(1, 2, 0).cpu().numpy()\n",
    "simg = simg * 255\n",
    "pil_simg = Image.fromarray(simg.astype(np.uint8))\n",
    "pil_simg = pil_simg.resize((512, 512))\n",
    "pil_simg.show()"
   ]
  },
  {
   "cell_type": "code",
   "execution_count": 7,
   "metadata": {},
   "outputs": [],
   "source": [
    "from einsum import EinsumNetwork, EinetMixture\n",
    "import os\n",
    "from utils import save_image_stack"
   ]
  },
  {
   "cell_type": "code",
   "execution_count": 13,
   "metadata": {},
   "outputs": [],
   "source": [
    "def sample(n):\n",
    "    clusters = np.load('/storage-01/ml-jseng/imagenet-clusters/vit_cluster_minibatch.npy')\n",
    "    unique_clusters = np.unique(clusters)\n",
    "    weights = []\n",
    "    for c in unique_clusters:\n",
    "        cidx = np.argwhere(clusters == c).flatten()\n",
    "        weights.append(len(cidx) / len(clusters))\n",
    "    weights = np.array(weights)\n",
    "    rand_clusters = np.random.choice(np.arange(len(weights)), p=weights, size=n)\n",
    "    samples = torch.zeros(n, 3, 112, 112)\n",
    "    for i, rc in enumerate(rand_clusters):\n",
    "        model_file = f'./checkpoints/chk_{rc}.pt'\n",
    "        einet: EinsumNetwork.EinsumNetwork = torch.load(model_file)\n",
    "        s = einet.sample(1).cpu()\n",
    "        s = s.reshape(-1, 3, 112, 112)\n",
    "        samples[i, ...] = s\n",
    "    samples = samples.permute(0, 2, 3, 1).numpy()\n",
    "    img_path = './samples_mixture.png'\n",
    "    save_image_stack(samples, 5, 5, img_path, margin_gray_val=0., frame=2, frame_gray_val=0.0)"
   ]
  },
  {
   "cell_type": "code",
   "execution_count": 14,
   "metadata": {},
   "outputs": [
    {
     "ename": "",
     "evalue": "",
     "output_type": "error",
     "traceback": [
      "\u001b[1;31mThe Kernel crashed while executing code in the the current cell or a previous cell. Please review the code in the cell(s) to identify a possible cause of the failure. Click <a href='https://aka.ms/vscodeJupyterKernelCrash'>here</a> for more info. View Jupyter <a href='command:jupyter.viewOutput'>log</a> for further details."
     ]
    }
   ],
   "source": [
    "sample(25)"
   ]
  },
  {
   "cell_type": "code",
   "execution_count": null,
   "metadata": {},
   "outputs": [],
   "source": []
  }
 ],
 "metadata": {
  "kernelspec": {
   "display_name": "federated-spn",
   "language": "python",
   "name": "python3"
  },
  "language_info": {
   "codemirror_mode": {
    "name": "ipython",
    "version": 3
   },
   "file_extension": ".py",
   "mimetype": "text/x-python",
   "name": "python",
   "nbconvert_exporter": "python",
   "pygments_lexer": "ipython3",
   "version": "3.10.0"
  },
  "orig_nbformat": 4
 },
 "nbformat": 4,
 "nbformat_minor": 2
}
